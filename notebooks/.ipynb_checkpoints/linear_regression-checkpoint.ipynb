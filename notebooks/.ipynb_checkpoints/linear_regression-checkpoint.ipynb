{
 "cells": [
  {
   "cell_type": "markdown",
   "metadata": {},
   "source": [
    "<b><h1 align=\"center\">Regressão Linear e Correlação</h1><b>"
   ]
  },
  {
   "cell_type": "markdown",
   "metadata": {},
   "source": [
    "&nbsp;"
   ]
  },
  {
   "cell_type": "markdown",
   "metadata": {},
   "source": [
    "&nbsp;"
   ]
  },
  {
   "cell_type": "markdown",
   "metadata": {},
   "source": [
    "&nbsp;"
   ]
  },
  {
   "cell_type": "markdown",
   "metadata": {},
   "source": [
    "&nbsp;"
   ]
  },
  {
   "cell_type": "markdown",
   "metadata": {},
   "source": [
    "&nbsp;"
   ]
  },
  {
   "cell_type": "markdown",
   "metadata": {},
   "source": [
    "<p align=\"left\"><b>Autor:</b> Yuri José Soares de Araújo</p>"
   ]
  },
  {
   "cell_type": "markdown",
   "metadata": {},
   "source": [
    "<p align=\"left\"><b>Matrícula:</b> 1520658</p>"
   ]
  },
  {
   "cell_type": "markdown",
   "metadata": {},
   "source": [
    "<p align=\"left\"><b>Curso:</b> Engenharia de Computação</p>"
   ]
  },
  {
   "cell_type": "markdown",
   "metadata": {},
   "source": [
    "&nbsp;"
   ]
  },
  {
   "cell_type": "markdown",
   "metadata": {},
   "source": [
    "&nbsp;"
   ]
  },
  {
   "cell_type": "markdown",
   "metadata": {},
   "source": [
    "&nbsp;"
   ]
  },
  {
   "cell_type": "markdown",
   "metadata": {},
   "source": [
    "&nbsp;"
   ]
  },
  {
   "cell_type": "markdown",
   "metadata": {},
   "source": [
    "<p align=\"center\"> Fortaleza, 14 de Outubro de 2018</p>"
   ]
  },
  {
   "cell_type": "markdown",
   "metadata": {},
   "source": [
    "&nbsp;"
   ]
  },
  {
   "cell_type": "markdown",
   "metadata": {},
   "source": [
    "&nbsp;"
   ]
  },
  {
   "cell_type": "markdown",
   "metadata": {},
   "source": [
    "&nbsp;"
   ]
  },
  {
   "cell_type": "markdown",
   "metadata": {},
   "source": [
    "&nbsp;"
   ]
  },
  {
   "cell_type": "markdown",
   "metadata": {
    "slideshow": {
     "slide_type": "-"
    }
   },
   "source": [
    "<h1 align=\"center\">Introdução</h1>"
   ]
  },
  {
   "cell_type": "markdown",
   "metadata": {},
   "source": [
    "<p align=\"left\">Regressão linear é uma técnica bastante utilizada para descobrir se há e qual a correlação entre duas variáveis, estas chamadas de variável independente e dependente. O método de regressão linear é baseado no coeficiente de Pearson:</p>"
   ]
  },
  {
   "cell_type": "markdown",
   "metadata": {},
   "source": [
    "\\begin{align}\n",
    "r = \\frac{{}\\sum_{i=1}^{n} (x_i - \\overline{x})(y_i - \\overline{y})}\n",
    "{\\sqrt{\\sum_{i=1}^{n} (x_i - \\overline{x})^2(y_i - \\overline{y})^2}} \\\\\n",
    "\\end{align}"
   ]
  },
  {
   "cell_type": "markdown",
   "metadata": {},
   "source": [
    "<p>Que pode ser resumido em:</p>"
   ]
  },
  {
   "cell_type": "markdown",
   "metadata": {
    "variables": {
     "S_{xy": "<p><strong>SyntaxError</strong>: invalid syntax (<ipython-input-376-b6b3add6d063>, line 1)</p>\n",
     "\\sqrt{S_{xx}.S_{yy": "<p><strong>SyntaxError</strong>: unexpected character after line continuation character (<ipython-input-376-a46b7f2c1524>, line 1)</p>\n"
    }
   },
   "source": [
    "\\begin{align}\n",
    "r = \\frac{{S_{xy}}}{{\\sqrt{S_{xx}.S_{yy}}}}\n",
    "\\end{align}"
   ]
  },
  {
   "cell_type": "markdown",
   "metadata": {},
   "source": [
    "<p>Lembrando ainda que a fórmula descrita acima é valida se, e somente se, ${1 \\leq r \\leq 1}$, que é a variância descrita pelo coeficiente de Pearson. Em termos práticos, um ${r}$ mais próximo de ${-1}$ significa uma maior correlação negativa, já o contrário, quando o ${r}$ é próximo de ${1}$, existe uma maior correlação positiva. Quando o ${r}$ tende a zero podemos interpretar que não há correlação entre as duas variáveis.</p>"
   ]
  },
  {
   "cell_type": "markdown",
   "metadata": {},
   "source": [
    "<p>O algoritmo de regressão linear é também um dos algoritmos de predição utilizados no <i>Machine Learning</i> mais populares devido a sua simplicidade. Na seção de análise irei realizar uma pequena demonstração do algoritmo utilizando a biblioteca <i>Scikit Learn</i> para calcular uma predição baseada em um dataset pré estabelecido.</p>"
   ]
  },
  {
   "cell_type": "markdown",
   "metadata": {},
   "source": [
    "&nbsp;"
   ]
  },
  {
   "cell_type": "markdown",
   "metadata": {},
   "source": [
    "<h1 align=\"center\">Objetivo Geral</h1>"
   ]
  },
  {
   "cell_type": "markdown",
   "metadata": {},
   "source": [
    "<p>Por meio deste <i>Notebook</i> desejo utilizar de <i>Computação Interativa</i> para demonstrar e analisar dados de difícil compreensão e para isto escolhi a linguagem de programação <i>Python</i>, bastante reconhecida no meio acadêmico e com ampla aplicação na área de <i>Data Science</i> juntamente com seu <i>framework</i> de Análise de Dados, o <i>Jupyter Notebook</i>, que veio trazer algumas funcionalidade já reconhecidas no R Studio para o <i>Python</i>.</p>"
   ]
  },
  {
   "cell_type": "markdown",
   "metadata": {},
   "source": [
    "&nbsp;"
   ]
  },
  {
   "cell_type": "markdown",
   "metadata": {},
   "source": [
    "<h1 align=\"center\">Análise e Interpretação dos Dados</h1>"
   ]
  },
  {
   "cell_type": "markdown",
   "metadata": {},
   "source": [
    "<p>A seguir irei fazer uma demonstração dos algoritmo de Regressão Linear e seu uso em <i>Machine Learning</i> com predição de dados. Como sugerido na introdução, irei explicar passo a passo cada resultado para que até iniciantes em Ciência de Dados ou mesmo em <i>Python</i> possam acompahar.</p>"
   ]
  },
  {
   "cell_type": "markdown",
   "metadata": {},
   "source": [
    "<p>Ao final de cada seção, irei fazer uma breve revisão para fixar o conteúdo ensinado e para que possamos passar para o próximo estágio sem dúvidas.</p>"
   ]
  },
  {
   "cell_type": "markdown",
   "metadata": {},
   "source": [
    "&nbsp;"
   ]
  },
  {
   "cell_type": "markdown",
   "metadata": {},
   "source": [
    "<p>Começando pelo bloco abaixo, onde apenas chamo as bibliotecas matemáticas que irei utilizar para me ajudar durante o processo de análise, manipulação e visualização dos dados.</p>"
   ]
  },
  {
   "cell_type": "code",
   "execution_count": 295,
   "metadata": {},
   "outputs": [],
   "source": [
    "%matplotlib inline\n",
    "import matplotlib.pyplot as plt # invocando o método pyplot para plotar os dados\n",
    "import numpy as np # biblioteca de manipulação dos dados\n",
    "import pandas as pd # o mesmo que a de cima, porém mais simples e mais limitada\n",
    "from sklearn import linear_model # biblioteca que guarda algoritmos de Machine Learning \n",
    "from sklearn.model_selection import train_test_split\n",
    "from sklearn.metrics import mean_squared_error, r2_score # funções de métrica para avaliar o meu treinamento\n",
    "from scipy.stats import pearsonr # calcula o coeficiente de Pearson\n",
    "from math import sqrt\n",
    "from sympy import Matrix"
   ]
  },
  {
   "cell_type": "markdown",
   "metadata": {},
   "source": [
    "<h2>1a Questão</h2>"
   ]
  },
  {
   "cell_type": "markdown",
   "metadata": {},
   "source": [
    "<p>Agora vou carregar o dataset da planilha para a memória para que possa ser manipulado e utilizarei as colunas 7 e 8, equivalentes a coluna \"Número de Pessoas na Família\" e a coluna de \"Lixo Gerado\".</p>"
   ]
  },
  {
   "cell_type": "code",
   "execution_count": 296,
   "metadata": {},
   "outputs": [],
   "source": [
    "df = pd.read_excel('../data/database.xls', sheet_name='Dados 3', usecols=[7, 8])"
   ]
  },
  {
   "cell_type": "markdown",
   "metadata": {},
   "source": [
    "<p>Exibe as primeiras 5 entradas do dataset, lembrando que assim como muitas linguagens de programação, o <i>Python</i> considera o primeiro índice de uma lista como ${0}$, então lembre-se de fazer essa subtração quando estiver olhando para a planilha. Deixei esta função apenas para validar se os dados e os nomes das colunas estavam inseridos de forma correta.</p>"
   ]
  },
  {
   "cell_type": "code",
   "execution_count": 297,
   "metadata": {},
   "outputs": [
    {
     "data": {
      "text/html": [
       "<div>\n",
       "<style scoped>\n",
       "    .dataframe tbody tr th:only-of-type {\n",
       "        vertical-align: middle;\n",
       "    }\n",
       "\n",
       "    .dataframe tbody tr th {\n",
       "        vertical-align: top;\n",
       "    }\n",
       "\n",
       "    .dataframe thead th {\n",
       "        text-align: right;\n",
       "    }\n",
       "</style>\n",
       "<table border=\"1\" class=\"dataframe\">\n",
       "  <thead>\n",
       "    <tr style=\"text-align: right;\">\n",
       "      <th></th>\n",
       "      <th>Nº de Pessoas na Família</th>\n",
       "      <th>Lixo Gerado</th>\n",
       "    </tr>\n",
       "  </thead>\n",
       "  <tbody>\n",
       "    <tr>\n",
       "      <th>0</th>\n",
       "      <td>2</td>\n",
       "      <td>64</td>\n",
       "    </tr>\n",
       "    <tr>\n",
       "      <th>1</th>\n",
       "      <td>1</td>\n",
       "      <td>32</td>\n",
       "    </tr>\n",
       "    <tr>\n",
       "      <th>2</th>\n",
       "      <td>1</td>\n",
       "      <td>40</td>\n",
       "    </tr>\n",
       "    <tr>\n",
       "      <th>3</th>\n",
       "      <td>2</td>\n",
       "      <td>73</td>\n",
       "    </tr>\n",
       "    <tr>\n",
       "      <th>4</th>\n",
       "      <td>2</td>\n",
       "      <td>64</td>\n",
       "    </tr>\n",
       "  </tbody>\n",
       "</table>\n",
       "</div>"
      ],
      "text/plain": [
       "   Nº de Pessoas na Família  Lixo Gerado\n",
       "0                         2           64\n",
       "1                         1           32\n",
       "2                         1           40\n",
       "3                         2           73\n",
       "4                         2           64"
      ]
     },
     "execution_count": 297,
     "metadata": {},
     "output_type": "execute_result"
    }
   ],
   "source": [
    "df.head()"
   ]
  },
  {
   "cell_type": "code",
   "execution_count": 298,
   "metadata": {},
   "outputs": [],
   "source": [
    "pessoas_train = df['Nº de Pessoas na Família'].values[:30].reshape(-1, 1)\n",
    "lixo_train = df['Lixo Gerado'].values[:30].reshape(-1, 1)\n",
    "pessoas_test = df['Nº de Pessoas na Família'].values[30:].reshape(-1, 1)\n",
    "lixo_test = df['Lixo Gerado'].values[30:].reshape(-1, 1)\n",
    "regr = linear_model.LinearRegression()\n",
    "regr.fit(pessoas_train, lixo_train)\n",
    "lixo_predict = regr.predict(pessoas_test)"
   ]
  },
  {
   "cell_type": "code",
   "execution_count": 299,
   "metadata": {},
   "outputs": [
    {
     "data": {
      "image/png": "[encoded data removed]",
      "text/plain": [
       "<Figure size 432x288 with 1 Axes>"
      ]
     },
     "metadata": {
      "needs_background": "light"
     },
     "output_type": "display_data"
    }
   ],
   "source": [
    "plt.scatter(pessoas_test, lixo_test, color='blue')\n",
    "plt.plot(pessoas_test, lixo_predict, color='red', linewidth=1, label=\"Reta de Regressão\")\n",
    "plt.legend(bbox_to_anchor=(1.05, 1), loc=2, borderaxespad=0.)\n",
    "plt.xlabel(\"Nº de Pessoas na Família\")\n",
    "plt.ylabel(\"Lixo Gerado\")\n",
    "plt.show()"
   ]
  },
  {
   "cell_type": "code",
   "execution_count": 300,
   "metadata": {
    "variables": {
     " df.columns[1] ": "Lixo Gerado",
     " regr.coef_[0][0] ": "36.064085447263004",
     " regr.intercept_[0] ": "-7.73030707610144"
    }
   },
   "outputs": [
    {
     "name": "stdout",
     "output_type": "stream",
     "text": [
      "O coeficiente angular de Lixo Gerado é 36.06 e a interseção da reta é -7.73. A equação resultante é:\n",
      " y = 36.06x-7.73\n"
     ]
    }
   ],
   "source": [
    "print(f'O coeficiente angular de {df.columns[1]} é {str(regr.coef_[0][0])[:5]}\\\n",
    " e a interseção da reta é {str(regr.intercept_[0])[:5]}.\\\n",
    " A equação resultante é:\\n y = {str(regr.coef_[0][0])[:5]}x{str(regr.intercept_[0])[:5]}')"
   ]
  },
  {
   "cell_type": "code",
   "execution_count": 301,
   "metadata": {
    "scrolled": true
   },
   "outputs": [
    {
     "name": "stdout",
     "output_type": "stream",
     "text": [
      "O coeficiente de determinação é -1.31.\n"
     ]
    }
   ],
   "source": [
    "print(f\"O coeficiente de determinação é {str(r2_score(lixo_train, lixo_predict))[:5]}.\")"
   ]
  },
  {
   "cell_type": "code",
   "execution_count": 302,
   "metadata": {},
   "outputs": [
    {
     "name": "stdout",
     "output_type": "stream",
     "text": [
      "A estimativa do volume de lixo gerado por uma família de 4 pessoas é 136.5.\n"
     ]
    }
   ],
   "source": [
    "print(f\"A estimativa do volume de lixo gerado por uma família de 4 pessoas é\\\n",
    " {str(regr.predict([[4]])[0][0])[:5]}.\")"
   ]
  },
  {
   "cell_type": "markdown",
   "metadata": {},
   "source": [
    "<p><b>Média:</b></p>"
   ]
  },
  {
   "cell_type": "code",
   "execution_count": 303,
   "metadata": {},
   "outputs": [
    {
     "name": "stdout",
     "output_type": "stream",
     "text": [
      "Nº de Pessoas na Família: 2.05\n",
      "Lixo Gerado: 66.15\n"
     ]
    }
   ],
   "source": [
    "print(f'Nº de Pessoas na Família: {df[\"Nº de Pessoas na Família\"].mean()}')\n",
    "print(f'Lixo Gerado: {df[\"Lixo Gerado\"].mean()}')"
   ]
  },
  {
   "cell_type": "markdown",
   "metadata": {},
   "source": [
    "<p><b>Mediana:</b></p>"
   ]
  },
  {
   "cell_type": "code",
   "execution_count": 304,
   "metadata": {},
   "outputs": [
    {
     "name": "stdout",
     "output_type": "stream",
     "text": [
      "Nº de Pessoas na Família: 2.0\n",
      "Lixo Gerado: 64.0\n"
     ]
    }
   ],
   "source": [
    "print(f'Nº de Pessoas na Família: {df[\"Nº de Pessoas na Família\"].median()}')\n",
    "print(f'Lixo Gerado: {df[\"Lixo Gerado\"].median()}')"
   ]
  },
  {
   "cell_type": "markdown",
   "metadata": {},
   "source": [
    "<p><b>Desvio padrão:</b></p>"
   ]
  },
  {
   "cell_type": "code",
   "execution_count": 305,
   "metadata": {},
   "outputs": [
    {
     "name": "stdout",
     "output_type": "stream",
     "text": [
      "Nº de Pessoas na Família: 0.9099264265284941\n",
      "Lixo Gerado: 33.96899134330244\n"
     ]
    }
   ],
   "source": [
    "print(f'Nº de Pessoas na Família: {df[\"Nº de Pessoas na Família\"].std()}')\n",
    "print(f'Lixo Gerado: {df[\"Lixo Gerado\"].std()}')"
   ]
  },
  {
   "cell_type": "markdown",
   "metadata": {},
   "source": [
    "<p><b>Variância:</b></p>"
   ]
  },
  {
   "cell_type": "code",
   "execution_count": 306,
   "metadata": {},
   "outputs": [
    {
     "name": "stdout",
     "output_type": "stream",
     "text": [
      "Nº de Pessoas na Família: 0.8279661016949149\n",
      "Lixo Gerado: 1153.892372881356\n"
     ]
    }
   ],
   "source": [
    "print(f'Nº de Pessoas na Família: {df[\"Nº de Pessoas na Família\"].var()}')\n",
    "print(f'Lixo Gerado: {df[\"Lixo Gerado\"].var()}')"
   ]
  },
  {
   "cell_type": "markdown",
   "metadata": {},
   "source": [
    "<p>Mais informações sobre o dataset:</p>"
   ]
  },
  {
   "cell_type": "code",
   "execution_count": 307,
   "metadata": {
    "variables": {
     " df.info() ": "&lt;class &#39;pandas.core.frame.DataFrame&#39;&gt;\nRangeIndex: 60 entries, 0 to 59\nData columns (total 2 columns):\nNº de Pessoas na Família    60 non-null int64\nLixo Gerado                 60 non-null int64\ndtypes: int64(2)\nmemory usage: 1.0 KB",
     "-df.info()-": "<p><strong>SyntaxError</strong>: invalid syntax (<ipython-input-13-14fbfd969fc8>, line 1)</p>\n"
    }
   },
   "outputs": [
    {
     "name": "stdout",
     "output_type": "stream",
     "text": [
      "<class 'pandas.core.frame.DataFrame'>\n",
      "RangeIndex: 60 entries, 0 to 59\n",
      "Data columns (total 2 columns):\n",
      "Nº de Pessoas na Família    60 non-null int64\n",
      "Lixo Gerado                 60 non-null int64\n",
      "dtypes: int64(2)\n",
      "memory usage: 1.0 KB\n"
     ]
    }
   ],
   "source": [
    "df.info()"
   ]
  },
  {
   "cell_type": "markdown",
   "metadata": {},
   "source": [
    "&nbsp;"
   ]
  },
  {
   "cell_type": "markdown",
   "metadata": {},
   "source": [
    "<h2>2a Questão</h2>"
   ]
  },
  {
   "cell_type": "code",
   "execution_count": 308,
   "metadata": {},
   "outputs": [],
   "source": [
    "df2 = pd.read_excel('../data/database.xls', sheet_name='Dados 8', usecols=[0, 1])"
   ]
  },
  {
   "cell_type": "code",
   "execution_count": 309,
   "metadata": {
    "scrolled": true
   },
   "outputs": [
    {
     "data": {
      "text/html": [
       "<div>\n",
       "<style scoped>\n",
       "    .dataframe tbody tr th:only-of-type {\n",
       "        vertical-align: middle;\n",
       "    }\n",
       "\n",
       "    .dataframe tbody tr th {\n",
       "        vertical-align: top;\n",
       "    }\n",
       "\n",
       "    .dataframe thead th {\n",
       "        text-align: right;\n",
       "    }\n",
       "</style>\n",
       "<table border=\"1\" class=\"dataframe\">\n",
       "  <thead>\n",
       "    <tr style=\"text-align: right;\">\n",
       "      <th></th>\n",
       "      <th>X</th>\n",
       "      <th>Y</th>\n",
       "    </tr>\n",
       "  </thead>\n",
       "  <tbody>\n",
       "    <tr>\n",
       "      <th>0</th>\n",
       "      <td>22.0</td>\n",
       "      <td>64.03</td>\n",
       "    </tr>\n",
       "    <tr>\n",
       "      <th>1</th>\n",
       "      <td>20.0</td>\n",
       "      <td>62.47</td>\n",
       "    </tr>\n",
       "    <tr>\n",
       "      <th>2</th>\n",
       "      <td>18.0</td>\n",
       "      <td>54.94</td>\n",
       "    </tr>\n",
       "    <tr>\n",
       "      <th>3</th>\n",
       "      <td>16.0</td>\n",
       "      <td>48.84</td>\n",
       "    </tr>\n",
       "    <tr>\n",
       "      <th>4</th>\n",
       "      <td>14.0</td>\n",
       "      <td>43.73</td>\n",
       "    </tr>\n",
       "  </tbody>\n",
       "</table>\n",
       "</div>"
      ],
      "text/plain": [
       "      X      Y\n",
       "0  22.0  64.03\n",
       "1  20.0  62.47\n",
       "2  18.0  54.94\n",
       "3  16.0  48.84\n",
       "4  14.0  43.73"
      ]
     },
     "execution_count": 309,
     "metadata": {},
     "output_type": "execute_result"
    }
   ],
   "source": [
    "df2.head()"
   ]
  },
  {
   "cell_type": "code",
   "execution_count": 310,
   "metadata": {},
   "outputs": [],
   "source": [
    "x_train = df2['X'].values[:12].reshape(-1, 1)\n",
    "y_train = df2['Y'].values[:12].reshape(-1, 1)\n",
    "x_test = df2['X'].values[12:].reshape(-1, 1)\n",
    "y_test = df2['Y'].values[12:].reshape(-1, 1)\n",
    "regr = linear_model.LinearRegression()\n",
    "regr.fit(x_train, y_train)\n",
    "y_predict = regr.predict(x_test)"
   ]
  },
  {
   "cell_type": "code",
   "execution_count": 311,
   "metadata": {},
   "outputs": [
    {
     "data": {
      "image/png": "[encoded data removed]",
      "text/plain": [
       "<Figure size 432x288 with 1 Axes>"
      ]
     },
     "metadata": {
      "needs_background": "light"
     },
     "output_type": "display_data"
    }
   ],
   "source": [
    "plt.scatter(x_test, y_test, color='blue')\n",
    "plt.plot(x_test, y_predict, color='red', linewidth=1, label=\"Reta de Regressão\")\n",
    "plt.legend(bbox_to_anchor=(1.05, 1), loc=2, borderaxespad=0.)\n",
    "plt.xlabel(\"Velocidade\")\n",
    "plt.ylabel(\"Capacidade\")\n",
    "plt.show()"
   ]
  },
  {
   "cell_type": "code",
   "execution_count": 312,
   "metadata": {
    "scrolled": true
   },
   "outputs": [
    {
     "name": "stdout",
     "output_type": "stream",
     "text": [
      "O coeficiente angular de Y é 2.766 e a interseção da reta é 4.991. A equação resultante é:\n",
      " y = 2.766x + 4.991\n"
     ]
    }
   ],
   "source": [
    "print(f'O coeficiente angular de {df2.columns[1]} é {str(regr.coef_[0][0])[:5]}\\\n",
    " e a interseção da reta é {str(regr.intercept_[0])[:5]}.\\\n",
    " A equação resultante é:\\n y = {str(regr.coef_[0][0])[:5]}x + {str(regr.intercept_[0])[:5]}')"
   ]
  },
  {
   "cell_type": "code",
   "execution_count": 313,
   "metadata": {
    "scrolled": false
   },
   "outputs": [
    {
     "name": "stdout",
     "output_type": "stream",
     "text": [
      "O coeficiente de determinação é 0.222.\n"
     ]
    }
   ],
   "source": [
    "print(f\"O coeficiente de determinação é {str(r2_score(y_train, y_predict))[:5]}.\")"
   ]
  },
  {
   "cell_type": "code",
   "execution_count": 314,
   "metadata": {},
   "outputs": [
    {
     "name": "stdout",
     "output_type": "stream",
     "text": [
      "A estimativa da capacidade da máquina para uma velocidade de 15 rpm é 46.48.\n"
     ]
    }
   ],
   "source": [
    "print(f\"A estimativa da capacidade da máquina para uma velocidade de 15 rpm é\\\n",
    " {str(regr.predict([[15]])[0][0])[:5]}.\")"
   ]
  },
  {
   "cell_type": "markdown",
   "metadata": {},
   "source": [
    "<p><b>Média:</b></p>"
   ]
  },
  {
   "cell_type": "code",
   "execution_count": 315,
   "metadata": {},
   "outputs": [
    {
     "name": "stdout",
     "output_type": "stream",
     "text": [
      "Velocidade: 17.4375\n",
      "Capacidade: 52.298\n"
     ]
    }
   ],
   "source": [
    "print(f'Velocidade: {df2[\"X\"].mean()}')\n",
    "print(f'Capacidade: {str(df2[\"Y\"].mean())[:6]}')"
   ]
  },
  {
   "cell_type": "markdown",
   "metadata": {},
   "source": [
    "<p><b>Mediana:</b></p>"
   ]
  },
  {
   "cell_type": "code",
   "execution_count": 316,
   "metadata": {},
   "outputs": [
    {
     "name": "stdout",
     "output_type": "stream",
     "text": [
      "Velocidade: 17.5\n",
      "Capacidade: 52.035\n"
     ]
    }
   ],
   "source": [
    "print(f'Velocidade: {df2[\"X\"].median()}')\n",
    "print(f'Capacidade: {df2[\"Y\"].median()}')"
   ]
  },
  {
   "cell_type": "markdown",
   "metadata": {},
   "source": [
    "<p><b>Desvio padrão:</b></p>"
   ]
  },
  {
   "cell_type": "code",
   "execution_count": 317,
   "metadata": {},
   "outputs": [
    {
     "name": "stdout",
     "output_type": "stream",
     "text": [
      "Velocidade: 3.76\n",
      "Capacidade: 10.14\n"
     ]
    }
   ],
   "source": [
    "print(f'Velocidade: {str(df2[\"X\"].std())[:4]}')\n",
    "print(f'Capacidade: {str(df2[\"Y\"].std())[:5]}')"
   ]
  },
  {
   "cell_type": "markdown",
   "metadata": {},
   "source": [
    "<p><b>Variância:</b></p>"
   ]
  },
  {
   "cell_type": "code",
   "execution_count": 318,
   "metadata": {},
   "outputs": [
    {
     "name": "stdout",
     "output_type": "stream",
     "text": [
      "Velocidade: 14.20\n",
      "Capacidade: 102.91\n"
     ]
    }
   ],
   "source": [
    "print(f'Velocidade: {str(df2[\"X\"].var())[:5]}')\n",
    "print(f'Capacidade: {str(df2[\"Y\"].var())[:6]}')"
   ]
  },
  {
   "cell_type": "markdown",
   "metadata": {},
   "source": [
    "<p>Mais informações sobre o dataset:</p>"
   ]
  },
  {
   "cell_type": "code",
   "execution_count": 319,
   "metadata": {
    "variables": {
     " df.info() ": "&lt;class &#39;pandas.core.frame.DataFrame&#39;&gt;\nRangeIndex: 60 entries, 0 to 59\nData columns (total 2 columns):\nNº de Pessoas na Família    60 non-null int64\nLixo Gerado                 60 non-null int64\ndtypes: int64(2)\nmemory usage: 1.0 KB",
     "-df.info()-": "<p><strong>SyntaxError</strong>: invalid syntax (<ipython-input-13-14fbfd969fc8>, line 1)</p>\n"
    }
   },
   "outputs": [
    {
     "name": "stdout",
     "output_type": "stream",
     "text": [
      "<class 'pandas.core.frame.DataFrame'>\n",
      "RangeIndex: 24 entries, 0 to 23\n",
      "Data columns (total 2 columns):\n",
      "X    24 non-null float64\n",
      "Y    24 non-null float64\n",
      "dtypes: float64(2)\n",
      "memory usage: 464.0 bytes\n"
     ]
    }
   ],
   "source": [
    "df2.info()"
   ]
  },
  {
   "cell_type": "markdown",
   "metadata": {},
   "source": [
    "&nbsp;"
   ]
  },
  {
   "cell_type": "markdown",
   "metadata": {},
   "source": [
    "<h2>3a Questão</h2>"
   ]
  },
  {
   "cell_type": "code",
   "execution_count": 320,
   "metadata": {},
   "outputs": [],
   "source": [
    "df = pd.read_excel('../data/database.xls', sheet_name='Dados 3', usecols=[7, 8])\n",
    "df2 = pd.read_excel('../data/database.xls', sheet_name='Dados 8', usecols=[0, 1])\n",
    "for i in range(0, len(df['Lixo Gerado'].values)):\n",
    "    df['Lixo Gerado'][i] = df['Lixo Gerado'][i]*1.15 + 5"
   ]
  },
  {
   "cell_type": "code",
   "execution_count": 321,
   "metadata": {
    "scrolled": true
   },
   "outputs": [
    {
     "data": {
      "text/html": [
       "<div>\n",
       "<style scoped>\n",
       "    .dataframe tbody tr th:only-of-type {\n",
       "        vertical-align: middle;\n",
       "    }\n",
       "\n",
       "    .dataframe tbody tr th {\n",
       "        vertical-align: top;\n",
       "    }\n",
       "\n",
       "    .dataframe thead th {\n",
       "        text-align: right;\n",
       "    }\n",
       "</style>\n",
       "<table border=\"1\" class=\"dataframe\">\n",
       "  <thead>\n",
       "    <tr style=\"text-align: right;\">\n",
       "      <th></th>\n",
       "      <th>Nº de Pessoas na Família</th>\n",
       "      <th>Lixo Gerado</th>\n",
       "    </tr>\n",
       "  </thead>\n",
       "  <tbody>\n",
       "    <tr>\n",
       "      <th>0</th>\n",
       "      <td>2</td>\n",
       "      <td>78</td>\n",
       "    </tr>\n",
       "    <tr>\n",
       "      <th>1</th>\n",
       "      <td>1</td>\n",
       "      <td>41</td>\n",
       "    </tr>\n",
       "    <tr>\n",
       "      <th>2</th>\n",
       "      <td>1</td>\n",
       "      <td>51</td>\n",
       "    </tr>\n",
       "    <tr>\n",
       "      <th>3</th>\n",
       "      <td>2</td>\n",
       "      <td>88</td>\n",
       "    </tr>\n",
       "    <tr>\n",
       "      <th>4</th>\n",
       "      <td>2</td>\n",
       "      <td>78</td>\n",
       "    </tr>\n",
       "  </tbody>\n",
       "</table>\n",
       "</div>"
      ],
      "text/plain": [
       "   Nº de Pessoas na Família  Lixo Gerado\n",
       "0                         2           78\n",
       "1                         1           41\n",
       "2                         1           51\n",
       "3                         2           88\n",
       "4                         2           78"
      ]
     },
     "execution_count": 321,
     "metadata": {},
     "output_type": "execute_result"
    }
   ],
   "source": [
    "df.head()"
   ]
  },
  {
   "cell_type": "code",
   "execution_count": 322,
   "metadata": {},
   "outputs": [],
   "source": [
    "pessoas_train = df['Nº de Pessoas na Família'].values[:30].reshape(-1, 1)\n",
    "lixo_train = df['Lixo Gerado'].values[:30].reshape(-1, 1)\n",
    "pessoas_test = df['Nº de Pessoas na Família'].values[30:].reshape(-1, 1)\n",
    "lixo_test = df['Lixo Gerado'].values[30:].reshape(-1, 1)\n",
    "regr = linear_model.LinearRegression()\n",
    "regr.fit(pessoas_train, lixo_train)\n",
    "lixo_predict = regr.predict(pessoas_test)"
   ]
  },
  {
   "cell_type": "code",
   "execution_count": 323,
   "metadata": {},
   "outputs": [
    {
     "data": {
      "image/png": "[encoded data removed]",
      "text/plain": [
       "<Figure size 432x288 with 1 Axes>"
      ]
     },
     "metadata": {
      "needs_background": "light"
     },
     "output_type": "display_data"
    }
   ],
   "source": [
    "plt.scatter(pessoas_test, lixo_test, color='blue')\n",
    "plt.plot(pessoas_test, lixo_predict, color='red', linewidth=1, label=\"Reta de Regressão\")\n",
    "plt.legend(bbox_to_anchor=(1.05, 1), loc=2, borderaxespad=0.)\n",
    "plt.xlabel(\"Nº de Pessoas na Família\")\n",
    "plt.ylabel(\"Lixo Gerado\")\n",
    "plt.show()"
   ]
  },
  {
   "cell_type": "code",
   "execution_count": 324,
   "metadata": {
    "variables": {
     " df.columns[1] ": "Lixo Gerado",
     " regr.coef_[0][0] ": "36.064085447263004",
     " regr.intercept_[0] ": "-7.73030707610144"
    }
   },
   "outputs": [
    {
     "name": "stdout",
     "output_type": "stream",
     "text": [
      "O coeficiente angular de Lixo Gerado é 41.49 e a interseção da reta é -4.48. A equação resultante é:\n",
      " y = 41.49x-4.48\n"
     ]
    }
   ],
   "source": [
    "print(f'O coeficiente angular de {df.columns[1]} é {str(regr.coef_[0][0])[:5]}\\\n",
    " e a interseção da reta é {str(regr.intercept_[0])[:5]}.\\\n",
    " A equação resultante é:\\n y = {str(regr.coef_[0][0])[:5]}x{str(regr.intercept_[0])[:5]}')"
   ]
  },
  {
   "cell_type": "code",
   "execution_count": 325,
   "metadata": {
    "scrolled": true
   },
   "outputs": [
    {
     "name": "stdout",
     "output_type": "stream",
     "text": [
      "O coeficiente de determinação é -1.31.\n"
     ]
    }
   ],
   "source": [
    "print(f\"O coeficiente de determinação é {str(r2_score(lixo_train, lixo_predict))[:5]}.\")"
   ]
  },
  {
   "cell_type": "code",
   "execution_count": 326,
   "metadata": {},
   "outputs": [
    {
     "name": "stdout",
     "output_type": "stream",
     "text": [
      "A estimativa do volume de lixo gerado por uma família de 4 pessoas é 161.5.\n"
     ]
    }
   ],
   "source": [
    "print(f\"A estimativa do volume de lixo gerado por uma família de 4 pessoas é\\\n",
    " {str(regr.predict([[4]])[0][0])[:5]}.\")"
   ]
  },
  {
   "cell_type": "markdown",
   "metadata": {},
   "source": [
    "<p><b>Média:</b></p>"
   ]
  },
  {
   "cell_type": "code",
   "execution_count": 327,
   "metadata": {},
   "outputs": [
    {
     "name": "stdout",
     "output_type": "stream",
     "text": [
      "Nº de Pessoas na Família: 2.05\n",
      "Lixo Gerado: 80.53\n"
     ]
    }
   ],
   "source": [
    "print(f'Nº de Pessoas na Família: {df[\"Nº de Pessoas na Família\"].mean()}')\n",
    "print(f'Lixo Gerado: {str(df[\"Lixo Gerado\"].mean())[:5]}')"
   ]
  },
  {
   "cell_type": "markdown",
   "metadata": {},
   "source": [
    "<p><b>Mediana:</b></p>"
   ]
  },
  {
   "cell_type": "code",
   "execution_count": 328,
   "metadata": {},
   "outputs": [
    {
     "name": "stdout",
     "output_type": "stream",
     "text": [
      "Nº de Pessoas na Família: 2.0\n",
      "Lixo Gerado: 78.0\n"
     ]
    }
   ],
   "source": [
    "print(f'Nº de Pessoas na Família: {df[\"Nº de Pessoas na Família\"].median()}')\n",
    "print(f'Lixo Gerado: {df[\"Lixo Gerado\"].median()}')"
   ]
  },
  {
   "cell_type": "markdown",
   "metadata": {},
   "source": [
    "<p><b>Desvio padrão:</b></p>"
   ]
  },
  {
   "cell_type": "code",
   "execution_count": 329,
   "metadata": {},
   "outputs": [
    {
     "name": "stdout",
     "output_type": "stream",
     "text": [
      "Nº de Pessoas na Família: 0.909\n",
      "Lixo Gerado: 39.11\n"
     ]
    }
   ],
   "source": [
    "print(f'Nº de Pessoas na Família: {str(df[\"Nº de Pessoas na Família\"].std())[:5]}')\n",
    "print(f'Lixo Gerado: {str(df[\"Lixo Gerado\"].std())[:5]}')"
   ]
  },
  {
   "cell_type": "markdown",
   "metadata": {},
   "source": [
    "<p><b>Variância:</b></p>"
   ]
  },
  {
   "cell_type": "code",
   "execution_count": 330,
   "metadata": {},
   "outputs": [
    {
     "name": "stdout",
     "output_type": "stream",
     "text": [
      "Nº de Pessoas na Família: 0.827\n",
      "Lixo Gerado: 1529.77\n"
     ]
    }
   ],
   "source": [
    "print(f'Nº de Pessoas na Família: {str(df[\"Nº de Pessoas na Família\"].var())[:5]}')\n",
    "print(f'Lixo Gerado: {str(df[\"Lixo Gerado\"].var())[:7]}')"
   ]
  },
  {
   "cell_type": "markdown",
   "metadata": {},
   "source": [
    "<p>Mais informações sobre o dataset:</p>"
   ]
  },
  {
   "cell_type": "code",
   "execution_count": 331,
   "metadata": {
    "variables": {
     " df.info() ": "&lt;class &#39;pandas.core.frame.DataFrame&#39;&gt;\nRangeIndex: 60 entries, 0 to 59\nData columns (total 2 columns):\nNº de Pessoas na Família    60 non-null int64\nLixo Gerado                 60 non-null int64\ndtypes: int64(2)\nmemory usage: 1.0 KB",
     "-df.info()-": "<p><strong>SyntaxError</strong>: invalid syntax (<ipython-input-13-14fbfd969fc8>, line 1)</p>\n"
    }
   },
   "outputs": [
    {
     "name": "stdout",
     "output_type": "stream",
     "text": [
      "<class 'pandas.core.frame.DataFrame'>\n",
      "RangeIndex: 60 entries, 0 to 59\n",
      "Data columns (total 2 columns):\n",
      "Nº de Pessoas na Família    60 non-null int64\n",
      "Lixo Gerado                 60 non-null int64\n",
      "dtypes: int64(2)\n",
      "memory usage: 1.0 KB\n"
     ]
    }
   ],
   "source": [
    "df.info()"
   ]
  },
  {
   "cell_type": "markdown",
   "metadata": {},
   "source": [
    "&nbsp;"
   ]
  },
  {
   "cell_type": "markdown",
   "metadata": {},
   "source": [
    "<h2>4a Questão</h2>"
   ]
  },
  {
   "cell_type": "code",
   "execution_count": 332,
   "metadata": {},
   "outputs": [],
   "source": [
    "x = [4, 5, 4, 5, 8, 9, 10, 11, 12, 12]\n",
    "y = [1, 1, 2, 3, 3, 5, 5, 6, 6, 6]\n",
    "z = [6, 7, 10, 10, 11, 9, 12, 10, 11, 14]\n",
    "\n",
    "df = pd.DataFrame({'x': x, 'y': y, 'z': z})"
   ]
  },
  {
   "cell_type": "code",
   "execution_count": 333,
   "metadata": {},
   "outputs": [
    {
     "data": {
      "text/html": [
       "<div>\n",
       "<style scoped>\n",
       "    .dataframe tbody tr th:only-of-type {\n",
       "        vertical-align: middle;\n",
       "    }\n",
       "\n",
       "    .dataframe tbody tr th {\n",
       "        vertical-align: top;\n",
       "    }\n",
       "\n",
       "    .dataframe thead th {\n",
       "        text-align: right;\n",
       "    }\n",
       "</style>\n",
       "<table border=\"1\" class=\"dataframe\">\n",
       "  <thead>\n",
       "    <tr style=\"text-align: right;\">\n",
       "      <th></th>\n",
       "      <th>x</th>\n",
       "      <th>y</th>\n",
       "      <th>z</th>\n",
       "    </tr>\n",
       "  </thead>\n",
       "  <tbody>\n",
       "    <tr>\n",
       "      <th>0</th>\n",
       "      <td>4</td>\n",
       "      <td>1</td>\n",
       "      <td>6</td>\n",
       "    </tr>\n",
       "    <tr>\n",
       "      <th>1</th>\n",
       "      <td>5</td>\n",
       "      <td>1</td>\n",
       "      <td>7</td>\n",
       "    </tr>\n",
       "    <tr>\n",
       "      <th>2</th>\n",
       "      <td>4</td>\n",
       "      <td>2</td>\n",
       "      <td>10</td>\n",
       "    </tr>\n",
       "    <tr>\n",
       "      <th>3</th>\n",
       "      <td>5</td>\n",
       "      <td>3</td>\n",
       "      <td>10</td>\n",
       "    </tr>\n",
       "    <tr>\n",
       "      <th>4</th>\n",
       "      <td>8</td>\n",
       "      <td>3</td>\n",
       "      <td>11</td>\n",
       "    </tr>\n",
       "  </tbody>\n",
       "</table>\n",
       "</div>"
      ],
      "text/plain": [
       "   x  y   z\n",
       "0  4  1   6\n",
       "1  5  1   7\n",
       "2  4  2  10\n",
       "3  5  3  10\n",
       "4  8  3  11"
      ]
     },
     "execution_count": 333,
     "metadata": {},
     "output_type": "execute_result"
    }
   ],
   "source": [
    "df.head()"
   ]
  },
  {
   "cell_type": "code",
   "execution_count": 334,
   "metadata": {},
   "outputs": [
    {
     "name": "stdout",
     "output_type": "stream",
     "text": [
      "O coeficiente de correlação de x pra y é 0.94 e o de x para z é 0.70, portanto Y é a melhor variável para estimar o valor de X\n"
     ]
    }
   ],
   "source": [
    "print(f'O coeficiente de correlação de x pra y é {str(pearsonr(x, y))[1:5]} e o de x para z é\\\n",
    " {str(pearsonr(x, z))[1:5]}, portanto Y é a melhor variável para estimar o valor de X')"
   ]
  },
  {
   "cell_type": "markdown",
   "metadata": {},
   "source": [
    "&nbsp;"
   ]
  },
  {
   "cell_type": "markdown",
   "metadata": {},
   "source": [
    "<h2>5a questão</h2>"
   ]
  },
  {
   "cell_type": "code",
   "execution_count": 344,
   "metadata": {},
   "outputs": [],
   "source": [
    "df = pd.DataFrame({'Estudante': [1, 2, 3, 4, 5, 6, 7, 8, 9],\\\n",
    "                   'Horas Diárias de Estudo': [1, 1.5, 2.5, 2.5, 3, 3.5, 4, 4.5, 5],\\\n",
    "                   'Desempenho na Disciplina': [60, 51, 70, 80, 86, 50, 93, 94, 88]})"
   ]
  },
  {
   "cell_type": "code",
   "execution_count": 345,
   "metadata": {},
   "outputs": [
    {
     "data": {
      "text/html": [
       "<div>\n",
       "<style scoped>\n",
       "    .dataframe tbody tr th:only-of-type {\n",
       "        vertical-align: middle;\n",
       "    }\n",
       "\n",
       "    .dataframe tbody tr th {\n",
       "        vertical-align: top;\n",
       "    }\n",
       "\n",
       "    .dataframe thead th {\n",
       "        text-align: right;\n",
       "    }\n",
       "</style>\n",
       "<table border=\"1\" class=\"dataframe\">\n",
       "  <thead>\n",
       "    <tr style=\"text-align: right;\">\n",
       "      <th></th>\n",
       "      <th>Estudante</th>\n",
       "      <th>Horas Diárias de Estudo</th>\n",
       "      <th>Desempenho na Disciplina</th>\n",
       "    </tr>\n",
       "  </thead>\n",
       "  <tbody>\n",
       "    <tr>\n",
       "      <th>0</th>\n",
       "      <td>1</td>\n",
       "      <td>1.0</td>\n",
       "      <td>60</td>\n",
       "    </tr>\n",
       "    <tr>\n",
       "      <th>1</th>\n",
       "      <td>2</td>\n",
       "      <td>1.5</td>\n",
       "      <td>51</td>\n",
       "    </tr>\n",
       "    <tr>\n",
       "      <th>2</th>\n",
       "      <td>3</td>\n",
       "      <td>2.5</td>\n",
       "      <td>70</td>\n",
       "    </tr>\n",
       "    <tr>\n",
       "      <th>3</th>\n",
       "      <td>4</td>\n",
       "      <td>2.5</td>\n",
       "      <td>80</td>\n",
       "    </tr>\n",
       "    <tr>\n",
       "      <th>4</th>\n",
       "      <td>5</td>\n",
       "      <td>3.0</td>\n",
       "      <td>86</td>\n",
       "    </tr>\n",
       "  </tbody>\n",
       "</table>\n",
       "</div>"
      ],
      "text/plain": [
       "   Estudante  Horas Diárias de Estudo  Desempenho na Disciplina\n",
       "0          1                      1.0                        60\n",
       "1          2                      1.5                        51\n",
       "2          3                      2.5                        70\n",
       "3          4                      2.5                        80\n",
       "4          5                      3.0                        86"
      ]
     },
     "execution_count": 345,
     "metadata": {},
     "output_type": "execute_result"
    }
   ],
   "source": [
    "df.head()"
   ]
  },
  {
   "cell_type": "code",
   "execution_count": 346,
   "metadata": {},
   "outputs": [],
   "source": [
    "reduced_form, inds = Matrix(df[['Desempenho na Disciplina', 'Horas Diárias de Estudo']].values).rref()"
   ]
  },
  {
   "cell_type": "code",
   "execution_count": 347,
   "metadata": {},
   "outputs": [
    {
     "data": {
      "text/plain": [
       "Matrix([\n",
       "[1, 0],\n",
       "[0, 1],\n",
       "[0, 0],\n",
       "[0, 0],\n",
       "[0, 0],\n",
       "[0, 0],\n",
       "[0, 0],\n",
       "[0, 0],\n",
       "[0, 0]])"
      ]
     },
     "execution_count": 347,
     "metadata": {},
     "output_type": "execute_result"
    }
   ],
   "source": [
    "reduced_form"
   ]
  },
  {
   "cell_type": "code",
   "execution_count": 348,
   "metadata": {
    "scrolled": true
   },
   "outputs": [
    {
     "data": {
      "text/plain": [
       "(0, 1)"
      ]
     },
     "execution_count": 348,
     "metadata": {},
     "output_type": "execute_result"
    }
   ],
   "source": [
    "inds"
   ]
  },
  {
   "cell_type": "markdown",
   "metadata": {},
   "source": [
    "<p>O método ${rref}$ me retorna os índices das colunas linearmente independentes, sendo a coluna 0 equivalente a 'Desempenho na Disciplina' e a coluna 1 equivalente a 'Horas Diárias de Estudo'.</p>"
   ]
  },
  {
   "cell_type": "code",
   "execution_count": 359,
   "metadata": {
    "scrolled": true
   },
   "outputs": [
    {
     "data": {
      "image/png": "[encoded data removed]",
      "text/plain": [
       "<Figure size 432x288 with 1 Axes>"
      ]
     },
     "metadata": {
      "needs_background": "light"
     },
     "output_type": "display_data"
    }
   ],
   "source": [
    "x = df['Horas Diárias de Estudo'].values\n",
    "y = df['Desempenho na Disciplina'].values\n",
    "plt.scatter(x, y, color='blue')\n",
    "plt.xlabel(\"Horas Diárias de Estudo\")\n",
    "plt.ylabel(\"Desempenho na Disciplina\")\n",
    "plt.show()"
   ]
  },
  {
   "cell_type": "code",
   "execution_count": 360,
   "metadata": {},
   "outputs": [
    {
     "name": "stdout",
     "output_type": "stream",
     "text": [
      "O coeficiente de correlação de x pra y é 0.67.\n"
     ]
    }
   ],
   "source": [
    "print(f'O coeficiente de correlação de x pra y é {str(pearsonr(x, y))[1:5]}.')"
   ]
  },
  {
   "cell_type": "code",
   "execution_count": 361,
   "metadata": {},
   "outputs": [],
   "source": [
    "regr = linear_model.LinearRegression()\n",
    "regr.fit(x.reshape(-1, 1), y.reshape(-1, 1))\n",
    "y_predict = regr.predict([[3]])"
   ]
  },
  {
   "cell_type": "code",
   "execution_count": 366,
   "metadata": {
    "scrolled": true
   },
   "outputs": [
    {
     "name": "stdout",
     "output_type": "stream",
     "text": [
      "Para 3 horas de estudo é estimado um desempenho equivalente a 74.17.\n"
     ]
    }
   ],
   "source": [
    "print(f'Para 3 horas de estudo é estimado um desempenho equivalente a {str(y_predict[0][0])[:5]}.')"
   ]
  },
  {
   "cell_type": "markdown",
   "metadata": {},
   "source": [
    "<p><b>Média:</b></p>"
   ]
  },
  {
   "cell_type": "code",
   "execution_count": 369,
   "metadata": {},
   "outputs": [
    {
     "name": "stdout",
     "output_type": "stream",
     "text": [
      "Horas Diárias de Estudo: 3.055\n",
      "Desempenho na Disciplina: 74.66\n"
     ]
    }
   ],
   "source": [
    "print(f'Horas Diárias de Estudo: {str(df[\"Horas Diárias de Estudo\"].mean())[:5]}')\n",
    "print(f'Desempenho na Disciplina: {str(df[\"Desempenho na Disciplina\"].mean())[:5]}')"
   ]
  },
  {
   "cell_type": "markdown",
   "metadata": {},
   "source": [
    "<p><b>Mediana:</b></p>"
   ]
  },
  {
   "cell_type": "code",
   "execution_count": 370,
   "metadata": {},
   "outputs": [
    {
     "name": "stdout",
     "output_type": "stream",
     "text": [
      "Horas Diárias de Estudo: 3.0\n",
      "Desempenho na Disciplina: 80.0\n"
     ]
    }
   ],
   "source": [
    "print(f'Horas Diárias de Estudo: {df[\"Horas Diárias de Estudo\"].median()}')\n",
    "print(f'Desempenho na Disciplina: {df[\"Desempenho na Disciplina\"].median()}')"
   ]
  },
  {
   "cell_type": "markdown",
   "metadata": {},
   "source": [
    "<p><b>Desvio padrão:</b></p>"
   ]
  },
  {
   "cell_type": "code",
   "execution_count": 371,
   "metadata": {},
   "outputs": [
    {
     "name": "stdout",
     "output_type": "stream",
     "text": [
      "Horas Diárias de Estudo: 1.333\n",
      "Desempenho na Disciplina: 17.5\n"
     ]
    }
   ],
   "source": [
    "print(f'Horas Diárias de Estudo: {str(df[\"Horas Diárias de Estudo\"].std())[:5]}')\n",
    "print(f'Desempenho na Disciplina: {str(df[\"Desempenho na Disciplina\"].std())[:5]}')"
   ]
  },
  {
   "cell_type": "markdown",
   "metadata": {},
   "source": [
    "<p><b>Variância:</b></p>"
   ]
  },
  {
   "cell_type": "code",
   "execution_count": 374,
   "metadata": {},
   "outputs": [
    {
     "name": "stdout",
     "output_type": "stream",
     "text": [
      "Horas Diárias de Estudo: 1.777\n",
      "Desempenho na Disciplina: 306.25\n"
     ]
    }
   ],
   "source": [
    "print(f'Horas Diárias de Estudo: {str(df[\"Horas Diárias de Estudo\"].var())[:5]}')\n",
    "print(f'Desempenho na Disciplina: {str(df[\"Desempenho na Disciplina\"].var())[:7]}')"
   ]
  },
  {
   "cell_type": "markdown",
   "metadata": {},
   "source": [
    "<p>Mais informações sobre o dataset:</p>"
   ]
  },
  {
   "cell_type": "code",
   "execution_count": 375,
   "metadata": {
    "variables": {
     " df.info() ": "&lt;class &#39;pandas.core.frame.DataFrame&#39;&gt;\nRangeIndex: 60 entries, 0 to 59\nData columns (total 2 columns):\nNº de Pessoas na Família    60 non-null int64\nLixo Gerado                 60 non-null int64\ndtypes: int64(2)\nmemory usage: 1.0 KB",
     "-df.info()-": "<p><strong>SyntaxError</strong>: invalid syntax (<ipython-input-13-14fbfd969fc8>, line 1)</p>\n"
    }
   },
   "outputs": [
    {
     "name": "stdout",
     "output_type": "stream",
     "text": [
      "<class 'pandas.core.frame.DataFrame'>\n",
      "RangeIndex: 9 entries, 0 to 8\n",
      "Data columns (total 3 columns):\n",
      "Estudante                   9 non-null int64\n",
      "Horas Diárias de Estudo     9 non-null float64\n",
      "Desempenho na Disciplina    9 non-null int64\n",
      "dtypes: float64(1), int64(2)\n",
      "memory usage: 296.0 bytes\n"
     ]
    }
   ],
   "source": [
    "df.info()"
   ]
  },
  {
   "cell_type": "markdown",
   "metadata": {},
   "source": [
    "&nbsp;"
   ]
  },
  {
   "cell_type": "markdown",
   "metadata": {},
   "source": [
    "<h1 align=\"center\">Referências Bibliográficas</h1>"
   ]
  },
  {
   "cell_type": "markdown",
   "metadata": {},
   "source": [
    "<p>POLAMURI, Saimadhu. \"Data Mining with Python: Implementing Classification and Regression\". Packt Publishing Company (2016)</p>"
   ]
  },
  {
   "cell_type": "markdown",
   "metadata": {},
   "source": [
    "<p>https://www.eecis.udel.edu/~portnoi/classroom/prob_estatistica/2006_2/lecture_slides/aula20.pdf</p>"
   ]
  },
  {
   "cell_type": "markdown",
   "metadata": {},
   "source": [
    "<p>http://statisticsbyjim.com/glossary/regression-coefficient/</p>"
   ]
  },
  {
   "cell_type": "markdown",
   "metadata": {},
   "source": [
    "<p>BURGER, Scott V. \"Introduction to Machine Learning with R\". O'Reilly Media (2018)</p>"
   ]
  }
 ],
 "metadata": {
  "kernelspec": {
   "display_name": "Python 3",
   "language": "python",
   "name": "python3"
  },
  "language_info": {
   "codemirror_mode": {
    "name": "ipython",
    "version": 3
   },
   "file_extension": ".py",
   "mimetype": "text/x-python",
   "name": "python",
   "nbconvert_exporter": "python",
   "pygments_lexer": "ipython3",
   "version": "3.6.6"
  }
 },
 "nbformat": 4,
 "nbformat_minor": 2
}
